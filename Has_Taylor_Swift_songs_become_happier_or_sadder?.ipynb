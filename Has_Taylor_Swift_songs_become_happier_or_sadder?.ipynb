{
  "nbformat": 4,
  "nbformat_minor": 0,
  "metadata": {
    "colab": {
      "name": "Has Taylor Swift songs become happier or sadder?.ipynb",
      "provenance": [],
      "include_colab_link": true
    },
    "kernelspec": {
      "name": "python3",
      "display_name": "Python 3"
    }
  },
  "cells": [
    {
      "cell_type": "markdown",
      "metadata": {
        "id": "view-in-github",
        "colab_type": "text"
      },
      "source": [
        "<a href=\"https://colab.research.google.com/github/eveOfCode/Have-Taylor-Swift-Songs-Become-Happier-or-Sadder-/blob/main/Has_Taylor_Swift_songs_become_happier_or_sadder%3F.ipynb\" target=\"_parent\"><img src=\"https://colab.research.google.com/assets/colab-badge.svg\" alt=\"Open In Colab\"/></a>"
      ]
    },
    {
      "cell_type": "markdown",
      "metadata": {
        "id": "aPko44VNntKG"
      },
      "source": [
        "1. Install Libraries\n",
        "-------------------------\n",
        "A library is a reusable chuck of code that can be downloaded (installed) for your project."
      ]
    },
    {
      "cell_type": "code",
      "metadata": {
        "id": "kqgR8uqZnD80",
        "outputId": "8542028b-ebbf-4681-fc45-3ee2422eef0b",
        "colab": {
          "base_uri": "https://localhost:8080/",
          "height": 323
        }
      },
      "source": [
        "!pip install textblob\n",
        "!python -m textblob.download_corpora"
      ],
      "execution_count": 416,
      "outputs": [
        {
          "output_type": "stream",
          "text": [
            "Requirement already satisfied: textblob in /usr/local/lib/python3.6/dist-packages (0.15.3)\n",
            "Requirement already satisfied: nltk>=3.1 in /usr/local/lib/python3.6/dist-packages (from textblob) (3.2.5)\n",
            "Requirement already satisfied: six in /usr/local/lib/python3.6/dist-packages (from nltk>=3.1->textblob) (1.15.0)\n",
            "[nltk_data] Downloading package brown to /root/nltk_data...\n",
            "[nltk_data]   Package brown is already up-to-date!\n",
            "[nltk_data] Downloading package punkt to /root/nltk_data...\n",
            "[nltk_data]   Package punkt is already up-to-date!\n",
            "[nltk_data] Downloading package wordnet to /root/nltk_data...\n",
            "[nltk_data]   Package wordnet is already up-to-date!\n",
            "[nltk_data] Downloading package averaged_perceptron_tagger to\n",
            "[nltk_data]     /root/nltk_data...\n",
            "[nltk_data]   Package averaged_perceptron_tagger is already up-to-\n",
            "[nltk_data]       date!\n",
            "[nltk_data] Downloading package conll2000 to /root/nltk_data...\n",
            "[nltk_data]   Package conll2000 is already up-to-date!\n",
            "[nltk_data] Downloading package movie_reviews to /root/nltk_data...\n",
            "[nltk_data]   Package movie_reviews is already up-to-date!\n",
            "Finished.\n"
          ],
          "name": "stdout"
        }
      ]
    },
    {
      "cell_type": "markdown",
      "metadata": {
        "id": "FPC7d1hrn1VL"
      },
      "source": [
        "2. Import packages \n",
        "\n",
        "---\n",
        "A package is function usually used for a particular/specific task. It's different to a library as a library is a group of functions or packages. Basically, these will help us with our code and it's not important "
      ]
    },
    {
      "cell_type": "code",
      "metadata": {
        "id": "JktT-uJ1nuDe",
        "outputId": "0c51468b-ce40-4ac3-8707-f7587e134567",
        "colab": {
          "base_uri": "https://localhost:8080/",
          "height": 51
        }
      },
      "source": [
        "from gensim.summarization import keywords\n",
        "from spacy.lang.en import English\n",
        "from nltk.corpus import stopwords\n",
        "from google.colab import files\n",
        "from textblob import TextBlob\n",
        "import pandas as pd\n",
        "import spacy\n",
        "import nltk\n",
        "\n",
        "nltk.download('stopwords')\n",
        "stopwords = set(stopwords.words('english'))\n",
        "nlp = English()\n",
        "nlp.max_length = 10000000"
      ],
      "execution_count": 417,
      "outputs": [
        {
          "output_type": "stream",
          "text": [
            "[nltk_data] Downloading package stopwords to /root/nltk_data...\n",
            "[nltk_data]   Package stopwords is already up-to-date!\n"
          ],
          "name": "stdout"
        }
      ]
    },
    {
      "cell_type": "markdown",
      "metadata": {
        "id": "GzjVuoiOoMZF"
      },
      "source": [
        "4. Import Taylor Swift song data"
      ]
    },
    {
      "cell_type": "code",
      "metadata": {
        "id": "DvbOS9PxoGca"
      },
      "source": [
        "songs_df = pd.read_excel('https://query.data.world/s/wupw3xoyppvnsm4khcsravrn73v7id')"
      ],
      "execution_count": 418,
      "outputs": []
    },
    {
      "cell_type": "code",
      "metadata": {
        "id": "obEWOZXhg8Ct",
        "outputId": "b9cd9f2c-2c96-44f2-e32f-b3b32a419d41",
        "colab": {
          "base_uri": "https://localhost:8080/",
          "height": 419
        }
      },
      "source": [
        "songs_df"
      ],
      "execution_count": 419,
      "outputs": [
        {
          "output_type": "execute_result",
          "data": {
            "text/html": [
              "<div>\n",
              "<style scoped>\n",
              "    .dataframe tbody tr th:only-of-type {\n",
              "        vertical-align: middle;\n",
              "    }\n",
              "\n",
              "    .dataframe tbody tr th {\n",
              "        vertical-align: top;\n",
              "    }\n",
              "\n",
              "    .dataframe thead th {\n",
              "        text-align: right;\n",
              "    }\n",
              "</style>\n",
              "<table border=\"1\" class=\"dataframe\">\n",
              "  <thead>\n",
              "    <tr style=\"text-align: right;\">\n",
              "      <th></th>\n",
              "      <th>TITLE</th>\n",
              "      <th>ALBUM</th>\n",
              "      <th>ARTIST</th>\n",
              "      <th>RELEASED_AT</th>\n",
              "      <th>LYRICS</th>\n",
              "    </tr>\n",
              "  </thead>\n",
              "  <tbody>\n",
              "    <tr>\n",
              "      <th>0</th>\n",
              "      <td>Tim McGraw</td>\n",
              "      <td>Taylor Swift</td>\n",
              "      <td>Taylor Swift</td>\n",
              "      <td>2006-06-19</td>\n",
              "      <td>[Verse 1]\\nHe said the way my blue eyes shined...</td>\n",
              "    </tr>\n",
              "    <tr>\n",
              "      <th>1</th>\n",
              "      <td>Picture to Burn</td>\n",
              "      <td>Taylor Swift</td>\n",
              "      <td>Taylor Swift</td>\n",
              "      <td>2006-10-24</td>\n",
              "      <td>[Verse 1]\\nState the obvious, I didn't get my ...</td>\n",
              "    </tr>\n",
              "    <tr>\n",
              "      <th>2</th>\n",
              "      <td>Teardrops On My Guitar</td>\n",
              "      <td>Taylor Swift</td>\n",
              "      <td>Taylor Swift</td>\n",
              "      <td>2006-10-24</td>\n",
              "      <td>[Verse 1]\\nDrew looks at me\\nI fake a smile so...</td>\n",
              "    </tr>\n",
              "    <tr>\n",
              "      <th>3</th>\n",
              "      <td>A Place In This World</td>\n",
              "      <td>Taylor Swift</td>\n",
              "      <td>Taylor Swift</td>\n",
              "      <td>2006-10-24</td>\n",
              "      <td>[Verse 1]\\nI don't know what I want, so don't ...</td>\n",
              "    </tr>\n",
              "    <tr>\n",
              "      <th>4</th>\n",
              "      <td>Cold as You</td>\n",
              "      <td>Taylor Swift</td>\n",
              "      <td>Taylor Swift</td>\n",
              "      <td>2006-10-24</td>\n",
              "      <td>[Verse 1]\\nYou have a way of coming easily to ...</td>\n",
              "    </tr>\n",
              "    <tr>\n",
              "      <th>...</th>\n",
              "      <td>...</td>\n",
              "      <td>...</td>\n",
              "      <td>...</td>\n",
              "      <td>...</td>\n",
              "      <td>...</td>\n",
              "    </tr>\n",
              "    <tr>\n",
              "      <th>120</th>\n",
              "      <td>Everything has changed</td>\n",
              "      <td>Red</td>\n",
              "      <td>Taylor Swift</td>\n",
              "      <td>2012-10-22</td>\n",
              "      <td>All I knew\\nThis morning when I woke\\nIs I kno...</td>\n",
              "    </tr>\n",
              "    <tr>\n",
              "      <th>121</th>\n",
              "      <td>Bad Blood</td>\n",
              "      <td>1989</td>\n",
              "      <td>Taylor Swift</td>\n",
              "      <td>2014-10-27</td>\n",
              "      <td>Cause baby now we got bad blood\\nYou know it u...</td>\n",
              "    </tr>\n",
              "    <tr>\n",
              "      <th>122</th>\n",
              "      <td>End Game</td>\n",
              "      <td>reputation</td>\n",
              "      <td>Taylor Swift</td>\n",
              "      <td>2014-10-27</td>\n",
              "      <td>I wanna be your endgame\\nI wanna be your first...</td>\n",
              "    </tr>\n",
              "    <tr>\n",
              "      <th>123</th>\n",
              "      <td>Me!</td>\n",
              "      <td>Lover</td>\n",
              "      <td>Taylor Swift</td>\n",
              "      <td>2019-08-23</td>\n",
              "      <td>I promise that you'll never find another like ...</td>\n",
              "    </tr>\n",
              "    <tr>\n",
              "      <th>124</th>\n",
              "      <td>Peace</td>\n",
              "      <td>folklore</td>\n",
              "      <td>Taylor Swift</td>\n",
              "      <td>2020-07-24</td>\n",
              "      <td>Our coming of age has come and gone\\nSuddenly ...</td>\n",
              "    </tr>\n",
              "  </tbody>\n",
              "</table>\n",
              "<p>125 rows × 5 columns</p>\n",
              "</div>"
            ],
            "text/plain": [
              "                      TITLE  ...                                             LYRICS\n",
              "0                Tim McGraw  ...  [Verse 1]\\nHe said the way my blue eyes shined...\n",
              "1           Picture to Burn  ...  [Verse 1]\\nState the obvious, I didn't get my ...\n",
              "2    Teardrops On My Guitar  ...  [Verse 1]\\nDrew looks at me\\nI fake a smile so...\n",
              "3     A Place In This World  ...  [Verse 1]\\nI don't know what I want, so don't ...\n",
              "4               Cold as You  ...  [Verse 1]\\nYou have a way of coming easily to ...\n",
              "..                      ...  ...                                                ...\n",
              "120  Everything has changed  ...  All I knew\\nThis morning when I woke\\nIs I kno...\n",
              "121               Bad Blood  ...  Cause baby now we got bad blood\\nYou know it u...\n",
              "122                End Game  ...  I wanna be your endgame\\nI wanna be your first...\n",
              "123                     Me!  ...  I promise that you'll never find another like ...\n",
              "124                   Peace  ...  Our coming of age has come and gone\\nSuddenly ...\n",
              "\n",
              "[125 rows x 5 columns]"
            ]
          },
          "metadata": {
            "tags": []
          },
          "execution_count": 419
        }
      ]
    },
    {
      "cell_type": "code",
      "metadata": {
        "id": "iEcg25tEtoH-"
      },
      "source": [
        "for i in songs_df.loc[songs_df.TITLE == 'Tim McGraw'].LYRICS:\n",
        "  print(i)"
      ],
      "execution_count": null,
      "outputs": []
    },
    {
      "cell_type": "code",
      "metadata": {
        "id": "6uFtFrYcWVbB"
      },
      "source": [
        "# Clean data a bit\n",
        "# songs_df['LYRICS'] = songs_df['LYRICS'].str.replace('[^\\w\\s]',' ') \n",
        "songs_df['LYRICS'] = songs_df['LYRICS'].str.replace('\\]',' ') # remove square brackets\n",
        "songs_df['LYRICS'] = songs_df['LYRICS'].str.replace('\\[',' ') # remove square brackets\n",
        "songs_df['LYRICS'] = songs_df['LYRICS'].str.replace('[.,()!;:\"]','') # remove certain punctuation\n"
      ],
      "execution_count": 421,
      "outputs": []
    },
    {
      "cell_type": "code",
      "metadata": {
        "id": "dREFSfF4dmu_"
      },
      "source": [
        "songs_df.LYRICS = songs_df.LYRICS.str.replace(' Verse 1 \\n', '', regex=True)\n",
        "songs_df.LYRICS = songs_df.LYRICS.str.replace(' Verse 2 \\n', '', regex=True)\n",
        "songs_df.LYRICS = songs_df.LYRICS.str.replace(' Verse 3 \\n', '', regex=True)\n",
        "songs_df.LYRICS = songs_df.LYRICS.str.replace(' Verse 4 \\n', '', regex=True)\n",
        "songs_df.LYRICS = songs_df.LYRICS.str.replace(' Chorus \\n', '', regex=True)\n",
        "songs_df.LYRICS = songs_df.LYRICS.str.replace(' Pre-Chorus \\n', '', regex=True)\n",
        "songs_df.LYRICS = songs_df.LYRICS.str.replace(' Bridge \\n', '', regex=True)\n",
        "songs_df.LYRICS = songs_df.LYRICS.str.replace(' Outro \\n', '', regex=True)\n",
        "songs_df.LYRICS = songs_df.LYRICS.str.replace(' Refrain \\n', '', regex=True)"
      ],
      "execution_count": 422,
      "outputs": []
    },
    {
      "cell_type": "code",
      "metadata": {
        "id": "9g8LCu1gi7-j"
      },
      "source": [
        "songs_df.LYRICS = songs_df.LYRICS.replace('\\n',' ', regex=True) # remove control character newline\n",
        "songs_df.LYRICS = songs_df.LYRICS.str.lower() # convert text to lowercase "
      ],
      "execution_count": 424,
      "outputs": []
    },
    {
      "cell_type": "code",
      "metadata": {
        "id": "gzVEyyWPe6TQ"
      },
      "source": [
        "for i in songs_df.loc[songs_df.TITLE == 'Tim McGraw'].LYRICS:\n",
        "  print(i)"
      ],
      "execution_count": null,
      "outputs": []
    },
    {
      "cell_type": "code",
      "metadata": {
        "id": "08u9C15grc_V",
        "outputId": "3c903604-4c62-411b-f2b2-f005adc19518",
        "colab": {
          "base_uri": "https://localhost:8080/",
          "height": 419
        }
      },
      "source": [
        "songs_df"
      ],
      "execution_count": 426,
      "outputs": [
        {
          "output_type": "execute_result",
          "data": {
            "text/html": [
              "<div>\n",
              "<style scoped>\n",
              "    .dataframe tbody tr th:only-of-type {\n",
              "        vertical-align: middle;\n",
              "    }\n",
              "\n",
              "    .dataframe tbody tr th {\n",
              "        vertical-align: top;\n",
              "    }\n",
              "\n",
              "    .dataframe thead th {\n",
              "        text-align: right;\n",
              "    }\n",
              "</style>\n",
              "<table border=\"1\" class=\"dataframe\">\n",
              "  <thead>\n",
              "    <tr style=\"text-align: right;\">\n",
              "      <th></th>\n",
              "      <th>TITLE</th>\n",
              "      <th>ALBUM</th>\n",
              "      <th>ARTIST</th>\n",
              "      <th>RELEASED_AT</th>\n",
              "      <th>LYRICS</th>\n",
              "    </tr>\n",
              "  </thead>\n",
              "  <tbody>\n",
              "    <tr>\n",
              "      <th>0</th>\n",
              "      <td>Tim McGraw</td>\n",
              "      <td>Taylor Swift</td>\n",
              "      <td>Taylor Swift</td>\n",
              "      <td>2006-06-19</td>\n",
              "      <td>he said the way my blue eyes shined put those ...</td>\n",
              "    </tr>\n",
              "    <tr>\n",
              "      <th>1</th>\n",
              "      <td>Picture to Burn</td>\n",
              "      <td>Taylor Swift</td>\n",
              "      <td>Taylor Swift</td>\n",
              "      <td>2006-10-24</td>\n",
              "      <td>state the obvious i didn't get my perfect fant...</td>\n",
              "    </tr>\n",
              "    <tr>\n",
              "      <th>2</th>\n",
              "      <td>Teardrops On My Guitar</td>\n",
              "      <td>Taylor Swift</td>\n",
              "      <td>Taylor Swift</td>\n",
              "      <td>2006-10-24</td>\n",
              "      <td>drew looks at me i fake a smile so he won't se...</td>\n",
              "    </tr>\n",
              "    <tr>\n",
              "      <th>3</th>\n",
              "      <td>A Place In This World</td>\n",
              "      <td>Taylor Swift</td>\n",
              "      <td>Taylor Swift</td>\n",
              "      <td>2006-10-24</td>\n",
              "      <td>i don't know what i want so don't ask me cause...</td>\n",
              "    </tr>\n",
              "    <tr>\n",
              "      <th>4</th>\n",
              "      <td>Cold as You</td>\n",
              "      <td>Taylor Swift</td>\n",
              "      <td>Taylor Swift</td>\n",
              "      <td>2006-10-24</td>\n",
              "      <td>you have a way of coming easily to me and when...</td>\n",
              "    </tr>\n",
              "    <tr>\n",
              "      <th>...</th>\n",
              "      <td>...</td>\n",
              "      <td>...</td>\n",
              "      <td>...</td>\n",
              "      <td>...</td>\n",
              "      <td>...</td>\n",
              "    </tr>\n",
              "    <tr>\n",
              "      <th>120</th>\n",
              "      <td>Everything has changed</td>\n",
              "      <td>Red</td>\n",
              "      <td>Taylor Swift</td>\n",
              "      <td>2012-10-22</td>\n",
              "      <td>all i knew this morning when i woke is i know ...</td>\n",
              "    </tr>\n",
              "    <tr>\n",
              "      <th>121</th>\n",
              "      <td>Bad Blood</td>\n",
              "      <td>1989</td>\n",
              "      <td>Taylor Swift</td>\n",
              "      <td>2014-10-27</td>\n",
              "      <td>cause baby now we got bad blood you know it us...</td>\n",
              "    </tr>\n",
              "    <tr>\n",
              "      <th>122</th>\n",
              "      <td>End Game</td>\n",
              "      <td>reputation</td>\n",
              "      <td>Taylor Swift</td>\n",
              "      <td>2014-10-27</td>\n",
              "      <td>i wanna be your endgame i wanna be your first ...</td>\n",
              "    </tr>\n",
              "    <tr>\n",
              "      <th>123</th>\n",
              "      <td>Me!</td>\n",
              "      <td>Lover</td>\n",
              "      <td>Taylor Swift</td>\n",
              "      <td>2019-08-23</td>\n",
              "      <td>i promise that you'll never find another like ...</td>\n",
              "    </tr>\n",
              "    <tr>\n",
              "      <th>124</th>\n",
              "      <td>Peace</td>\n",
              "      <td>folklore</td>\n",
              "      <td>Taylor Swift</td>\n",
              "      <td>2020-07-24</td>\n",
              "      <td>our coming of age has come and gone suddenly t...</td>\n",
              "    </tr>\n",
              "  </tbody>\n",
              "</table>\n",
              "<p>125 rows × 5 columns</p>\n",
              "</div>"
            ],
            "text/plain": [
              "                      TITLE  ...                                             LYRICS\n",
              "0                Tim McGraw  ...  he said the way my blue eyes shined put those ...\n",
              "1           Picture to Burn  ...  state the obvious i didn't get my perfect fant...\n",
              "2    Teardrops On My Guitar  ...  drew looks at me i fake a smile so he won't se...\n",
              "3     A Place In This World  ...  i don't know what i want so don't ask me cause...\n",
              "4               Cold as You  ...  you have a way of coming easily to me and when...\n",
              "..                      ...  ...                                                ...\n",
              "120  Everything has changed  ...  all i knew this morning when i woke is i know ...\n",
              "121               Bad Blood  ...  cause baby now we got bad blood you know it us...\n",
              "122                End Game  ...  i wanna be your endgame i wanna be your first ...\n",
              "123                     Me!  ...  i promise that you'll never find another like ...\n",
              "124                   Peace  ...  our coming of age has come and gone suddenly t...\n",
              "\n",
              "[125 rows x 5 columns]"
            ]
          },
          "metadata": {
            "tags": []
          },
          "execution_count": 426
        }
      ]
    },
    {
      "cell_type": "markdown",
      "metadata": {
        "id": "9owgLxIEseav"
      },
      "source": [
        "5. Define functions"
      ]
    },
    {
      "cell_type": "code",
      "metadata": {
        "id": "7OFwKVEOsifG"
      },
      "source": [
        "# Function to return sentiment score of each song\n",
        "def get_lyric_sentiment(lyrics): \n",
        "\tanalysis = TextBlob(lyrics) \n",
        "\treturn analysis.sentiment.polarity"
      ],
      "execution_count": 427,
      "outputs": []
    },
    {
      "cell_type": "code",
      "metadata": {
        "id": "UsQQpTIGskPQ"
      },
      "source": [
        "# Function to preprocess text - this function is only used to help the return_keywords() function\n",
        "def preprocess(text):\n",
        "    # Create Doc object\n",
        "    doc = nlp(text, disable=['ner', 'parser'])\n",
        "    # Generate lemmas\n",
        "    lemmas = [token.lemma_ for token in doc]\n",
        "    # Remove stopwords and non-alphabetic characters\n",
        "    a_lemmas = [lemma for lemma in lemmas \n",
        "            if lemma.isalpha() and lemma not in stopwords]\n",
        "    return ' '.join(a_lemmas)"
      ],
      "execution_count": 428,
      "outputs": []
    },
    {
      "cell_type": "code",
      "metadata": {
        "id": "RrE4KggtsmMT"
      },
      "source": [
        " def return_keywords(texts):\n",
        "    xkeywords = []\n",
        "    values = keywords(text=preprocess(texts),split='\\n',scores=True)\n",
        "    for x in values[:10]:\n",
        "        xkeywords.append(x[0])\n",
        "    try:\n",
        "        return xkeywords \n",
        "    except:\n",
        "        return \"no content\""
      ],
      "execution_count": 429,
      "outputs": []
    },
    {
      "cell_type": "markdown",
      "metadata": {
        "id": "kJb8iQl2tXQZ"
      },
      "source": [
        "6. Calculate lyrics sentiment"
      ]
    },
    {
      "cell_type": "code",
      "metadata": {
        "id": "lH-lTrQQtUmB"
      },
      "source": [
        "#Use get_lyric_sentiment to get sentiment score for all the song lyrics\n",
        "sentiment = songs_df.apply(lambda row: get_lyric_sentiment(row['LYRICS']), axis =1)\n",
        "songs_df['Sentiment'] = sentiment"
      ],
      "execution_count": 430,
      "outputs": []
    },
    {
      "cell_type": "code",
      "metadata": {
        "id": "ZRlRtqZquDFj",
        "outputId": "e55c3de5-061b-4a3b-a681-f783ea442604",
        "colab": {
          "base_uri": "https://localhost:8080/",
          "height": 419
        }
      },
      "source": [
        "songs_df"
      ],
      "execution_count": 431,
      "outputs": [
        {
          "output_type": "execute_result",
          "data": {
            "text/html": [
              "<div>\n",
              "<style scoped>\n",
              "    .dataframe tbody tr th:only-of-type {\n",
              "        vertical-align: middle;\n",
              "    }\n",
              "\n",
              "    .dataframe tbody tr th {\n",
              "        vertical-align: top;\n",
              "    }\n",
              "\n",
              "    .dataframe thead th {\n",
              "        text-align: right;\n",
              "    }\n",
              "</style>\n",
              "<table border=\"1\" class=\"dataframe\">\n",
              "  <thead>\n",
              "    <tr style=\"text-align: right;\">\n",
              "      <th></th>\n",
              "      <th>TITLE</th>\n",
              "      <th>ALBUM</th>\n",
              "      <th>ARTIST</th>\n",
              "      <th>RELEASED_AT</th>\n",
              "      <th>LYRICS</th>\n",
              "      <th>Sentiment</th>\n",
              "    </tr>\n",
              "  </thead>\n",
              "  <tbody>\n",
              "    <tr>\n",
              "      <th>0</th>\n",
              "      <td>Tim McGraw</td>\n",
              "      <td>Taylor Swift</td>\n",
              "      <td>Taylor Swift</td>\n",
              "      <td>2006-06-19</td>\n",
              "      <td>he said the way my blue eyes shined put those ...</td>\n",
              "      <td>0.105707</td>\n",
              "    </tr>\n",
              "    <tr>\n",
              "      <th>1</th>\n",
              "      <td>Picture to Burn</td>\n",
              "      <td>Taylor Swift</td>\n",
              "      <td>Taylor Swift</td>\n",
              "      <td>2006-10-24</td>\n",
              "      <td>state the obvious i didn't get my perfect fant...</td>\n",
              "      <td>-0.199550</td>\n",
              "    </tr>\n",
              "    <tr>\n",
              "      <th>2</th>\n",
              "      <td>Teardrops On My Guitar</td>\n",
              "      <td>Taylor Swift</td>\n",
              "      <td>Taylor Swift</td>\n",
              "      <td>2006-10-24</td>\n",
              "      <td>drew looks at me i fake a smile so he won't se...</td>\n",
              "      <td>0.260434</td>\n",
              "    </tr>\n",
              "    <tr>\n",
              "      <th>3</th>\n",
              "      <td>A Place In This World</td>\n",
              "      <td>Taylor Swift</td>\n",
              "      <td>Taylor Swift</td>\n",
              "      <td>2006-10-24</td>\n",
              "      <td>i don't know what i want so don't ask me cause...</td>\n",
              "      <td>0.216111</td>\n",
              "    </tr>\n",
              "    <tr>\n",
              "      <th>4</th>\n",
              "      <td>Cold as You</td>\n",
              "      <td>Taylor Swift</td>\n",
              "      <td>Taylor Swift</td>\n",
              "      <td>2006-10-24</td>\n",
              "      <td>you have a way of coming easily to me and when...</td>\n",
              "      <td>0.247917</td>\n",
              "    </tr>\n",
              "    <tr>\n",
              "      <th>...</th>\n",
              "      <td>...</td>\n",
              "      <td>...</td>\n",
              "      <td>...</td>\n",
              "      <td>...</td>\n",
              "      <td>...</td>\n",
              "      <td>...</td>\n",
              "    </tr>\n",
              "    <tr>\n",
              "      <th>120</th>\n",
              "      <td>Everything has changed</td>\n",
              "      <td>Red</td>\n",
              "      <td>Taylor Swift</td>\n",
              "      <td>2012-10-22</td>\n",
              "      <td>all i knew this morning when i woke is i know ...</td>\n",
              "      <td>0.339293</td>\n",
              "    </tr>\n",
              "    <tr>\n",
              "      <th>121</th>\n",
              "      <td>Bad Blood</td>\n",
              "      <td>1989</td>\n",
              "      <td>Taylor Swift</td>\n",
              "      <td>2014-10-27</td>\n",
              "      <td>cause baby now we got bad blood you know it us...</td>\n",
              "      <td>-0.224874</td>\n",
              "    </tr>\n",
              "    <tr>\n",
              "      <th>122</th>\n",
              "      <td>End Game</td>\n",
              "      <td>reputation</td>\n",
              "      <td>Taylor Swift</td>\n",
              "      <td>2014-10-27</td>\n",
              "      <td>i wanna be your endgame i wanna be your first ...</td>\n",
              "      <td>0.018185</td>\n",
              "    </tr>\n",
              "    <tr>\n",
              "      <th>123</th>\n",
              "      <td>Me!</td>\n",
              "      <td>Lover</td>\n",
              "      <td>Taylor Swift</td>\n",
              "      <td>2019-08-23</td>\n",
              "      <td>i promise that you'll never find another like ...</td>\n",
              "      <td>0.219355</td>\n",
              "    </tr>\n",
              "    <tr>\n",
              "      <th>124</th>\n",
              "      <td>Peace</td>\n",
              "      <td>folklore</td>\n",
              "      <td>Taylor Swift</td>\n",
              "      <td>2020-07-24</td>\n",
              "      <td>our coming of age has come and gone suddenly t...</td>\n",
              "      <td>0.098810</td>\n",
              "    </tr>\n",
              "  </tbody>\n",
              "</table>\n",
              "<p>125 rows × 6 columns</p>\n",
              "</div>"
            ],
            "text/plain": [
              "                      TITLE  ... Sentiment\n",
              "0                Tim McGraw  ...  0.105707\n",
              "1           Picture to Burn  ... -0.199550\n",
              "2    Teardrops On My Guitar  ...  0.260434\n",
              "3     A Place In This World  ...  0.216111\n",
              "4               Cold as You  ...  0.247917\n",
              "..                      ...  ...       ...\n",
              "120  Everything has changed  ...  0.339293\n",
              "121               Bad Blood  ... -0.224874\n",
              "122                End Game  ...  0.018185\n",
              "123                     Me!  ...  0.219355\n",
              "124                   Peace  ...  0.098810\n",
              "\n",
              "[125 rows x 6 columns]"
            ]
          },
          "metadata": {
            "tags": []
          },
          "execution_count": 431
        }
      ]
    },
    {
      "cell_type": "code",
      "metadata": {
        "id": "gPtvaNutuqfB"
      },
      "source": [
        "#Set the index of the dataframe to the WeekID. This sets us up to resample dataframe based on time\n",
        "songs_df['RELEASED_AT'] = pd.to_datetime(songs_df['RELEASED_AT'],infer_datetime_format=True)\n",
        "songs_df = songs_df.sort_values(by='RELEASED_AT')\n",
        "songs_df = songs_df.reset_index(drop=True)\n",
        "songs_df = songs_df.set_index('RELEASED_AT')"
      ],
      "execution_count": 432,
      "outputs": []
    },
    {
      "cell_type": "code",
      "metadata": {
        "id": "0_8SDe-Cu0sd",
        "outputId": "e0a17df8-a5cb-4fe0-82a7-b64293ea35f7",
        "colab": {
          "base_uri": "https://localhost:8080/",
          "height": 450
        }
      },
      "source": [
        "songs_df"
      ],
      "execution_count": 433,
      "outputs": [
        {
          "output_type": "execute_result",
          "data": {
            "text/html": [
              "<div>\n",
              "<style scoped>\n",
              "    .dataframe tbody tr th:only-of-type {\n",
              "        vertical-align: middle;\n",
              "    }\n",
              "\n",
              "    .dataframe tbody tr th {\n",
              "        vertical-align: top;\n",
              "    }\n",
              "\n",
              "    .dataframe thead th {\n",
              "        text-align: right;\n",
              "    }\n",
              "</style>\n",
              "<table border=\"1\" class=\"dataframe\">\n",
              "  <thead>\n",
              "    <tr style=\"text-align: right;\">\n",
              "      <th></th>\n",
              "      <th>TITLE</th>\n",
              "      <th>ALBUM</th>\n",
              "      <th>ARTIST</th>\n",
              "      <th>LYRICS</th>\n",
              "      <th>Sentiment</th>\n",
              "    </tr>\n",
              "    <tr>\n",
              "      <th>RELEASED_AT</th>\n",
              "      <th></th>\n",
              "      <th></th>\n",
              "      <th></th>\n",
              "      <th></th>\n",
              "      <th></th>\n",
              "    </tr>\n",
              "  </thead>\n",
              "  <tbody>\n",
              "    <tr>\n",
              "      <th>2006-06-19</th>\n",
              "      <td>Tim McGraw</td>\n",
              "      <td>Taylor Swift</td>\n",
              "      <td>Taylor Swift</td>\n",
              "      <td>he said the way my blue eyes shined put those ...</td>\n",
              "      <td>0.105707</td>\n",
              "    </tr>\n",
              "    <tr>\n",
              "      <th>2006-10-24</th>\n",
              "      <td>Our Song</td>\n",
              "      <td>Taylor Swift</td>\n",
              "      <td>Taylor Swift</td>\n",
              "      <td>i was riding shotgun with my hair undone in th...</td>\n",
              "      <td>-0.116005</td>\n",
              "    </tr>\n",
              "    <tr>\n",
              "      <th>2006-10-24</th>\n",
              "      <td>Mary’s Song (Oh My My My)</td>\n",
              "      <td>Taylor Swift</td>\n",
              "      <td>Taylor Swift</td>\n",
              "      <td>she said i was seven and you were nine i looke...</td>\n",
              "      <td>0.156533</td>\n",
              "    </tr>\n",
              "    <tr>\n",
              "      <th>2006-10-24</th>\n",
              "      <td>Stay Beautiful</td>\n",
              "      <td>Taylor Swift</td>\n",
              "      <td>Taylor Swift</td>\n",
              "      <td>corey's eyes are like a jungle he smiles it's ...</td>\n",
              "      <td>0.437351</td>\n",
              "    </tr>\n",
              "    <tr>\n",
              "      <th>2006-10-24</th>\n",
              "      <td>Tied Together With a Smile</td>\n",
              "      <td>Taylor Swift</td>\n",
              "      <td>Taylor Swift</td>\n",
              "      <td>seems the only one who doesn't see your beauty...</td>\n",
              "      <td>0.190556</td>\n",
              "    </tr>\n",
              "    <tr>\n",
              "      <th>...</th>\n",
              "      <td>...</td>\n",
              "      <td>...</td>\n",
              "      <td>...</td>\n",
              "      <td>...</td>\n",
              "      <td>...</td>\n",
              "    </tr>\n",
              "    <tr>\n",
              "      <th>2020-07-24</th>\n",
              "      <td>​the last great american dynasty</td>\n",
              "      <td>folklore</td>\n",
              "      <td>Taylor Swift</td>\n",
              "      <td>rebekah rode up on the afternoon train it was ...</td>\n",
              "      <td>0.282994</td>\n",
              "    </tr>\n",
              "    <tr>\n",
              "      <th>2020-07-24</th>\n",
              "      <td>​cardigan</td>\n",
              "      <td>folklore</td>\n",
              "      <td>Taylor Swift</td>\n",
              "      <td>vintage tee brand new phone high heels on cobb...</td>\n",
              "      <td>0.128450</td>\n",
              "    </tr>\n",
              "    <tr>\n",
              "      <th>2020-07-24</th>\n",
              "      <td>​the 1</td>\n",
              "      <td>folklore</td>\n",
              "      <td>Taylor Swift</td>\n",
              "      <td>i'm doing good i'm on some new shit been sayin...</td>\n",
              "      <td>0.291388</td>\n",
              "    </tr>\n",
              "    <tr>\n",
              "      <th>2020-07-24</th>\n",
              "      <td>​mad woman</td>\n",
              "      <td>folklore</td>\n",
              "      <td>Taylor Swift</td>\n",
              "      <td>what did you think i'd say to that? does a sco...</td>\n",
              "      <td>-0.299194</td>\n",
              "    </tr>\n",
              "    <tr>\n",
              "      <th>2020-07-24</th>\n",
              "      <td>Peace</td>\n",
              "      <td>folklore</td>\n",
              "      <td>Taylor Swift</td>\n",
              "      <td>our coming of age has come and gone suddenly t...</td>\n",
              "      <td>0.098810</td>\n",
              "    </tr>\n",
              "  </tbody>\n",
              "</table>\n",
              "<p>125 rows × 5 columns</p>\n",
              "</div>"
            ],
            "text/plain": [
              "                                        TITLE  ... Sentiment\n",
              "RELEASED_AT                                    ...          \n",
              "2006-06-19                         Tim McGraw  ...  0.105707\n",
              "2006-10-24                           Our Song  ... -0.116005\n",
              "2006-10-24          Mary’s Song (Oh My My My)  ...  0.156533\n",
              "2006-10-24                     Stay Beautiful  ...  0.437351\n",
              "2006-10-24         Tied Together With a Smile  ...  0.190556\n",
              "...                                       ...  ...       ...\n",
              "2020-07-24   ​the last great american dynasty  ...  0.282994\n",
              "2020-07-24                          ​cardigan  ...  0.128450\n",
              "2020-07-24                             ​the 1  ...  0.291388\n",
              "2020-07-24                         ​mad woman  ... -0.299194\n",
              "2020-07-24                              Peace  ...  0.098810\n",
              "\n",
              "[125 rows x 5 columns]"
            ]
          },
          "metadata": {
            "tags": []
          },
          "execution_count": 433
        }
      ]
    },
    {
      "cell_type": "code",
      "metadata": {
        "id": "fth5Xrj0u2R5"
      },
      "source": [
        "#Resample dataframe sentiment column by year. This arranges the mean lyric sentiment for every year\n",
        "songs_resample = songs_df['Sentiment'].resample('Y').mean()"
      ],
      "execution_count": 434,
      "outputs": []
    },
    {
      "cell_type": "code",
      "metadata": {
        "id": "mcdf3hKZu746",
        "outputId": "fa910326-61a0-4abf-babc-d1f2403649ea",
        "colab": {
          "base_uri": "https://localhost:8080/",
          "height": 306
        }
      },
      "source": [
        "songs_resample"
      ],
      "execution_count": 435,
      "outputs": [
        {
          "output_type": "execute_result",
          "data": {
            "text/plain": [
              "RELEASED_AT\n",
              "2006-12-31    0.153823\n",
              "2007-12-31         NaN\n",
              "2008-12-31    0.104351\n",
              "2009-12-31         NaN\n",
              "2010-12-31    0.096046\n",
              "2011-12-31         NaN\n",
              "2012-12-31    0.102216\n",
              "2013-12-31         NaN\n",
              "2014-12-31    0.056049\n",
              "2015-12-31         NaN\n",
              "2016-12-31         NaN\n",
              "2017-12-31    0.080895\n",
              "2018-12-31         NaN\n",
              "2019-12-31    0.076312\n",
              "2020-12-31    0.033462\n",
              "Freq: A-DEC, Name: Sentiment, dtype: float64"
            ]
          },
          "metadata": {
            "tags": []
          },
          "execution_count": 435
        }
      ]
    },
    {
      "cell_type": "code",
      "metadata": {
        "id": "nrvT3Z6ou9eR",
        "outputId": "267b4439-ff7c-45d1-9bc3-bb048eb6b52c",
        "colab": {
          "base_uri": "https://localhost:8080/",
          "height": 187
        }
      },
      "source": [
        "songs_resample = songs_resample.dropna()\n",
        "songs_resample"
      ],
      "execution_count": 436,
      "outputs": [
        {
          "output_type": "execute_result",
          "data": {
            "text/plain": [
              "RELEASED_AT\n",
              "2006-12-31    0.153823\n",
              "2008-12-31    0.104351\n",
              "2010-12-31    0.096046\n",
              "2012-12-31    0.102216\n",
              "2014-12-31    0.056049\n",
              "2017-12-31    0.080895\n",
              "2019-12-31    0.076312\n",
              "2020-12-31    0.033462\n",
              "Name: Sentiment, dtype: float64"
            ]
          },
          "metadata": {
            "tags": []
          },
          "execution_count": 436
        }
      ]
    },
    {
      "cell_type": "markdown",
      "metadata": {
        "id": "4Ut8e5QrbV7s"
      },
      "source": [
        "# 7. Let's get some stats of the data"
      ]
    },
    {
      "cell_type": "code",
      "metadata": {
        "id": "PT2c_Dn1vD9n",
        "outputId": "ed4a7ec6-dc08-4e24-f4f8-d0af2ecd0a05",
        "colab": {
          "base_uri": "https://localhost:8080/",
          "height": 34
        }
      },
      "source": [
        "# What is the smallest sentiment?\n",
        "songs_resample.min()"
      ],
      "execution_count": 437,
      "outputs": [
        {
          "output_type": "execute_result",
          "data": {
            "text/plain": [
              "0.03346201029589078"
            ]
          },
          "metadata": {
            "tags": []
          },
          "execution_count": 437
        }
      ]
    },
    {
      "cell_type": "code",
      "metadata": {
        "id": "DZU9dWmFvGi3",
        "outputId": "887fdb94-5e46-434b-e240-6d136426f470",
        "colab": {
          "base_uri": "https://localhost:8080/",
          "height": 34
        }
      },
      "source": [
        "# What is the largest sentiment?\n",
        "songs_resample.max()"
      ],
      "execution_count": 438,
      "outputs": [
        {
          "output_type": "execute_result",
          "data": {
            "text/plain": [
              "0.15382275202891268"
            ]
          },
          "metadata": {
            "tags": []
          },
          "execution_count": 438
        }
      ]
    },
    {
      "cell_type": "code",
      "metadata": {
        "id": "YwzZgdphvJJt",
        "outputId": "8afcdb51-0788-4fef-f5fd-8cd15f5e837c",
        "colab": {
          "base_uri": "https://localhost:8080/",
          "height": 34
        }
      },
      "source": [
        "# What is the average sentiment?\n",
        "songs_resample.mean(0)"
      ],
      "execution_count": 439,
      "outputs": [
        {
          "output_type": "execute_result",
          "data": {
            "text/plain": [
              "0.08789426621673942"
            ]
          },
          "metadata": {
            "tags": []
          },
          "execution_count": 439
        }
      ]
    },
    {
      "cell_type": "markdown",
      "metadata": {
        "id": "44Gq7BpEvMMi"
      },
      "source": [
        "8. Plot Lyric Sentiment Over Time"
      ]
    },
    {
      "cell_type": "code",
      "metadata": {
        "id": "BJNkclcVvM92",
        "outputId": "7bd4ded4-cbaf-48f3-e99a-16e2fe991aac",
        "colab": {
          "base_uri": "https://localhost:8080/",
          "height": 287
        }
      },
      "source": [
        "songs_resample.plot(label='Sentiment', legend=True)"
      ],
      "execution_count": 440,
      "outputs": [
        {
          "output_type": "execute_result",
          "data": {
            "text/plain": [
              "<matplotlib.axes._subplots.AxesSubplot at 0x7f95a68a2828>"
            ]
          },
          "metadata": {
            "tags": []
          },
          "execution_count": 440
        },
        {
          "output_type": "display_data",
          "data": {
            "image/png": "[encoded data removed]",
            "text/plain": [
              "<Figure size 432x288 with 1 Axes>"
            ]
          },
          "metadata": {
            "tags": [],
            "needs_background": "light"
          }
        }
      ]
    },
    {
      "cell_type": "code",
      "metadata": {
        "id": "SAd_lBVovQ_4",
        "outputId": "0611b420-6fff-44ca-c19a-e4abc3fc0b48",
        "colab": {
          "base_uri": "https://localhost:8080/",
          "height": 34
        }
      },
      "source": [
        "#Calculate the mean percentage change of lyric sentiment \n",
        "# How has the lyric sentiment, on average, gotten annually between 2006 and 2020\n",
        "songs_resample.pct_change().mean() * 100"
      ],
      "execution_count": 441,
      "outputs": [
        {
          "output_type": "execute_result",
          "data": {
            "text/plain": [
              "-13.764330940001884"
            ]
          },
          "metadata": {
            "tags": []
          },
          "execution_count": 441
        }
      ]
    },
    {
      "cell_type": "code",
      "metadata": {
        "id": "vCqhdfBlvdw4"
      },
      "source": [
        "#Resample dataframe lyrics by year. Get all the lyrics for every song for each year\n",
        "lyrics_resample = songs_df['LYRICS'].resample('Y').sum()"
      ],
      "execution_count": 442,
      "outputs": []
    },
    {
      "cell_type": "code",
      "metadata": {
        "id": "QvAehJGQwAV8",
        "outputId": "d1e50110-070c-4c37-9d84-ce9a46677c5c",
        "colab": {
          "base_uri": "https://localhost:8080/",
          "height": 306
        }
      },
      "source": [
        "lyrics_resample"
      ],
      "execution_count": 447,
      "outputs": [
        {
          "output_type": "execute_result",
          "data": {
            "text/plain": [
              "RELEASED_AT\n",
              "2006-12-31    he said the way my blue eyes shined put those ...\n",
              "2007-12-31                                                    0\n",
              "2008-12-31    we were both young when i first saw you i clos...\n",
              "2009-12-31                                                    0\n",
              "2010-12-31    i guess you really did it this time left yours...\n",
              "2011-12-31                                                    0\n",
              "2012-12-31    i remember when we broke up the first time say...\n",
              "2013-12-31                                                    0\n",
              "2014-12-31    flashing lights and we took a wrong turn and w...\n",
              "2015-12-31                                                    0\n",
              "2016-12-31                                                    0\n",
              "2017-12-31    i don't like your little games don't like your...\n",
              "2018-12-31                                                    0\n",
              "2019-12-31    you are somebody that i don't know but you're ...\n",
              "2020-12-31    my only one my smoking gun my eclipsed sun thi...\n",
              "Freq: A-DEC, Name: LYRICS, dtype: object"
            ]
          },
          "metadata": {
            "tags": []
          },
          "execution_count": 447
        }
      ]
    },
    {
      "cell_type": "code",
      "metadata": {
        "id": "tuCQ5l6YwH6p"
      },
      "source": [
        "#Use return_keywords function on lyrics_resample to get the top 20 keywords for each year\n",
        "lyric_keywords = [return_keywords(x[1]) for x in lyrics_resample.iteritems() if x[1] != 0]"
      ],
      "execution_count": 444,
      "outputs": []
    },
    {
      "cell_type": "code",
      "metadata": {
        "id": "_BdOXoPqwVwe"
      },
      "source": [
        "lyric_keywords"
      ],
      "execution_count": null,
      "outputs": []
    },
    {
      "cell_type": "markdown",
      "metadata": {
        "id": "M5u37tUuwg_-"
      },
      "source": [
        "We don't want the years where Taylor didn't publish any songs.\n"
      ]
    },
    {
      "cell_type": "code",
      "metadata": {
        "id": "t35K708yxD2v"
      },
      "source": [
        "lyrics_resample_nozeros = pd.Series(data=[lyrics_resample['2006-12-31'], \n",
        "                                   lyrics_resample['2008-12-31'],\n",
        "                                   lyrics_resample['2010-12-31'],\n",
        "                                   lyrics_resample['2012-12-31'],\n",
        "                                   lyrics_resample['2014-12-31'],\n",
        "                                   lyrics_resample['2017-12-31'],\n",
        "                                   lyrics_resample['2019-12-31'],\n",
        "                                   lyrics_resample['2020-12-31']], \n",
        "                             index =[\"Timestamp('2006-12-31 00:00:00', freq='A-DEC')\",\n",
        "                                     \"Timestamp('2008-12-31 00:00:00', freq='A-DEC')\",\n",
        "                                     \"Timestamp('2010-12-31 00:00:00', freq='A-DEC')\",\n",
        "                                     \"Timestamp('2012-12-31 00:00:00', freq='A-DEC')\",\n",
        "                                     \"Timestamp('2014-12-31 00:00:00', freq='A-DEC')\",\n",
        "                                     \"Timestamp('2017-12-31 00:00:00', freq='A-DEC')\",\n",
        "                                     \"Timestamp('2019-12-31 00:00:00', freq='A-DEC')\",\n",
        "                                     \"Timestamp('2020-12-31 00:00:00', freq='A-DEC')\"])"
      ],
      "execution_count": 446,
      "outputs": []
    },
    {
      "cell_type": "markdown",
      "metadata": {
        "id": "7b9MnyIscZOU"
      },
      "source": [
        "9. Top keywords from each year "
      ]
    },
    {
      "cell_type": "code",
      "metadata": {
        "id": "qajcIdaAwfIn"
      },
      "source": [
        "#Put lyric_keywords into a DataFrame and include lyrics_resample and hot100_resample\n",
        "keywords_df = pd.DataFrame(lyric_keywords)\n",
        "keywords_df = keywords_df.set_index(lyrics_resample_nozeros.index)\n",
        "keywords_df['Lyrics'] = lyrics_resample_nozeros\n",
        "keywords_df['Sentiment'] = songs_resample"
      ],
      "execution_count": 448,
      "outputs": []
    },
    {
      "cell_type": "code",
      "metadata": {
        "id": "Ss73eI7t1IXE",
        "outputId": "d9c2a35e-92da-4ca1-ea27-25df1ab40448",
        "colab": {
          "base_uri": "https://localhost:8080/",
          "height": 433
        }
      },
      "source": [
        "keywords_df.drop(['Sentiment'], axis=1)"
      ],
      "execution_count": 449,
      "outputs": [
        {
          "output_type": "execute_result",
          "data": {
            "text/html": [
              "<div>\n",
              "<style scoped>\n",
              "    .dataframe tbody tr th:only-of-type {\n",
              "        vertical-align: middle;\n",
              "    }\n",
              "\n",
              "    .dataframe tbody tr th {\n",
              "        vertical-align: top;\n",
              "    }\n",
              "\n",
              "    .dataframe thead th {\n",
              "        text-align: right;\n",
              "    }\n",
              "</style>\n",
              "<table border=\"1\" class=\"dataframe\">\n",
              "  <thead>\n",
              "    <tr style=\"text-align: right;\">\n",
              "      <th></th>\n",
              "      <th>0</th>\n",
              "      <th>1</th>\n",
              "      <th>2</th>\n",
              "      <th>3</th>\n",
              "      <th>4</th>\n",
              "      <th>5</th>\n",
              "      <th>6</th>\n",
              "      <th>7</th>\n",
              "      <th>8</th>\n",
              "      <th>9</th>\n",
              "      <th>Lyrics</th>\n",
              "    </tr>\n",
              "  </thead>\n",
              "  <tbody>\n",
              "    <tr>\n",
              "      <th>Timestamp('2006-12-31 00:00:00', freq='A-DEC')</th>\n",
              "      <td>knows</td>\n",
              "      <td>thinking</td>\n",
              "      <td>like</td>\n",
              "      <td>mama know</td>\n",
              "      <td>looked</td>\n",
              "      <td>looking</td>\n",
              "      <td>looks</td>\n",
              "      <td>time</td>\n",
              "      <td>times</td>\n",
              "      <td>gone think</td>\n",
              "      <td>he said the way my blue eyes shined put those ...</td>\n",
              "    </tr>\n",
              "    <tr>\n",
              "      <th>Timestamp('2008-12-31 00:00:00', freq='A-DEC')</th>\n",
              "      <td>little know</td>\n",
              "      <td>like</td>\n",
              "      <td>feeling</td>\n",
              "      <td>way</td>\n",
              "      <td>look</td>\n",
              "      <td>looks</td>\n",
              "      <td>looking</td>\n",
              "      <td>princess love</td>\n",
              "      <td>think</td>\n",
              "      <td>thinking</td>\n",
              "      <td>we were both young when i first saw you i clos...</td>\n",
              "    </tr>\n",
              "    <tr>\n",
              "      <th>Timestamp('2010-12-31 00:00:00', freq='A-DEC')</th>\n",
              "      <td>liked</td>\n",
              "      <td>know</td>\n",
              "      <td>love</td>\n",
              "      <td>loved</td>\n",
              "      <td>lovely</td>\n",
              "      <td>times</td>\n",
              "      <td>looked</td>\n",
              "      <td>look</td>\n",
              "      <td>looking</td>\n",
              "      <td>looks</td>\n",
              "      <td>i guess you really did it this time left yours...</td>\n",
              "    </tr>\n",
              "    <tr>\n",
              "      <th>Timestamp('2012-12-31 00:00:00', freq='A-DEC')</th>\n",
              "      <td>like</td>\n",
              "      <td>liked</td>\n",
              "      <td>know</td>\n",
              "      <td>knowing</td>\n",
              "      <td>time</td>\n",
              "      <td>times</td>\n",
              "      <td>timing</td>\n",
              "      <td>loved</td>\n",
              "      <td>loving</td>\n",
              "      <td>loves</td>\n",
              "      <td>i remember when we broke up the first time say...</td>\n",
              "    </tr>\n",
              "    <tr>\n",
              "      <th>Timestamp('2014-12-31 00:00:00', freq='A-DEC')</th>\n",
              "      <td>loves</td>\n",
              "      <td>like end</td>\n",
              "      <td>baby</td>\n",
              "      <td>way love think straight</td>\n",
              "      <td>turn</td>\n",
              "      <td>turned</td>\n",
              "      <td>turning</td>\n",
              "      <td>remember</td>\n",
              "      <td>know</td>\n",
              "      <td>wonderland got lost</td>\n",
              "      <td>flashing lights and we took a wrong turn and w...</td>\n",
              "    </tr>\n",
              "    <tr>\n",
              "      <th>Timestamp('2017-12-31 00:00:00', freq='A-DEC')</th>\n",
              "      <td>times</td>\n",
              "      <td>like little</td>\n",
              "      <td>love</td>\n",
              "      <td>loves</td>\n",
              "      <td>got</td>\n",
              "      <td>things baby</td>\n",
              "      <td>time honey</td>\n",
              "      <td>said</td>\n",
              "      <td>want</td>\n",
              "      <td>wanted</td>\n",
              "      <td>i don't like your little games don't like your...</td>\n",
              "    </tr>\n",
              "    <tr>\n",
              "      <th>Timestamp('2019-12-31 00:00:00', freq='A-DEC')</th>\n",
              "      <td>like</td>\n",
              "      <td>know</td>\n",
              "      <td>knows</td>\n",
              "      <td>likely run</td>\n",
              "      <td>afternoon likes</td>\n",
              "      <td>love</td>\n",
              "      <td>wants loved</td>\n",
              "      <td>want</td>\n",
              "      <td>wanna</td>\n",
              "      <td>night</td>\n",
              "      <td>you are somebody that i don't know but you're ...</td>\n",
              "    </tr>\n",
              "    <tr>\n",
              "      <th>Timestamp('2020-12-31 00:00:00', freq='A-DEC')</th>\n",
              "      <td>likes</td>\n",
              "      <td>time</td>\n",
              "      <td>know</td>\n",
              "      <td>knowing</td>\n",
              "      <td>knows</td>\n",
              "      <td>love</td>\n",
              "      <td>loved</td>\n",
              "      <td>loves</td>\n",
              "      <td>thinking</td>\n",
              "      <td>passed house like</td>\n",
              "      <td>my only one my smoking gun my eclipsed sun thi...</td>\n",
              "    </tr>\n",
              "  </tbody>\n",
              "</table>\n",
              "</div>"
            ],
            "text/plain": [
              "                                                          0  ...                                             Lyrics\n",
              "Timestamp('2006-12-31 00:00:00', freq='A-DEC')        knows  ...  he said the way my blue eyes shined put those ...\n",
              "Timestamp('2008-12-31 00:00:00', freq='A-DEC')  little know  ...  we were both young when i first saw you i clos...\n",
              "Timestamp('2010-12-31 00:00:00', freq='A-DEC')        liked  ...  i guess you really did it this time left yours...\n",
              "Timestamp('2012-12-31 00:00:00', freq='A-DEC')         like  ...  i remember when we broke up the first time say...\n",
              "Timestamp('2014-12-31 00:00:00', freq='A-DEC')        loves  ...  flashing lights and we took a wrong turn and w...\n",
              "Timestamp('2017-12-31 00:00:00', freq='A-DEC')        times  ...  i don't like your little games don't like your...\n",
              "Timestamp('2019-12-31 00:00:00', freq='A-DEC')         like  ...  you are somebody that i don't know but you're ...\n",
              "Timestamp('2020-12-31 00:00:00', freq='A-DEC')        likes  ...  my only one my smoking gun my eclipsed sun thi...\n",
              "\n",
              "[8 rows x 11 columns]"
            ]
          },
          "metadata": {
            "tags": []
          },
          "execution_count": 449
        }
      ]
    }
  ]
}